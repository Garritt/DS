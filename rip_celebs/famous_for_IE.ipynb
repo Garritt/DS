{
 "cells": [
  {
   "cell_type": "code",
   "execution_count": 159,
   "metadata": {
    "collapsed": true
   },
   "outputs": [],
   "source": [
    "##### CLASSIFY 'famous_for' ATTRIBUTE to OCCUPATION  #######"
   ]
  },
  {
   "cell_type": "code",
   "execution_count": 160,
   "metadata": {
    "collapsed": true
   },
   "outputs": [],
   "source": [
    "import pandas as pd\n",
    "from pprint import pprint"
   ]
  },
  {
   "cell_type": "code",
   "execution_count": 161,
   "metadata": {
    "collapsed": false
   },
   "outputs": [],
   "source": [
    "######### Structures ###########\n",
    "black_list = ['and','of','the', 'The', 'for', 'to', 'in', 'from', '&', 'a',\n",
    "              'at', 'on', 'de', 'My', 'with', 'Who', 'A', 'I', 'Me', 'F',\n",
    "              'You', 'since', 'All', 'Los', '\"(I']\n",
    "blk_list = set(black_list)\n",
    "occupation_dict = {}\n",
    "################################"
   ]
  },
  {
   "cell_type": "code",
   "execution_count": 162,
   "metadata": {
    "collapsed": false
   },
   "outputs": [],
   "source": [
    "########## Data Import #########\n",
    "\n",
    "df = pd.DataFrame.from_csv('celebrity_deaths_2016_id.csv')\n",
    "\n",
    "with open('other/occupation_label.txt') as data_file:\n",
    "    label = 'null' \n",
    "    ## Construct label_dict from occupation_label.txt\n",
    "    for line in enumerate(data_file):\n",
    "        string = line[1].strip()\n",
    "        if string.startswith('#'):\n",
    "            continue\n",
    "        ##build dict\n",
    "        else:\n",
    "            if string.startswith('-'):\n",
    "                string = string.replace(\"-\", \"\")\n",
    "                occupation_dict[string] = label\n",
    "            else:\n",
    "                label = string\n",
    "\n",
    "#################################                "
   ]
  },
  {
   "cell_type": "code",
   "execution_count": 163,
   "metadata": {
    "collapsed": false
   },
   "outputs": [
    {
     "name": "stdout",
     "output_type": "stream",
     "text": [
      "non-classified examples:  4678\n"
     ]
    }
   ],
   "source": [
    "##############################################\n",
    "####     Classify Occupation of each      ####\n",
    "####   example based on occupation_dict   ####\n",
    "####   ################################   ####\n",
    "####   enrich dataset with these columns  ####\n",
    "##############################################\n",
    "\n",
    "column_occupation = []\n",
    "column_label = []\n",
    "count = 0\n",
    "\n",
    "for index, row in df.iterrows():\n",
    "    null = 1\n",
    "    about = row['famous_for']\n",
    "    about_str = str(about)\n",
    "    tokenize = about_str.split()\n",
    "    for token in tokenize:\n",
    "        ###### Custom Rules to skip irrelevant #########\n",
    "        if token.startswith(\"(\") or token.endswith(\")\"):\n",
    "            continue\n",
    "        if token in blk_list:\n",
    "            continue\n",
    "        #### First found token classifier match wins ####\n",
    "        token = token.lower()\n",
    "        label = occupation_dict.get(token)\n",
    "        if label != None:\n",
    "            column_occupation.append(token)\n",
    "            column_label.append(label)\n",
    "            null = 0\n",
    "            break\n",
    "    if null == 1:\n",
    "        count+=1\n",
    "        column_occupation.append('NAN')\n",
    "        column_label.append('NAN')\n",
    "\n",
    "        \n",
    "## Append and export ###\n",
    "df['career_type'] = column_label\n",
    "df['profession'] = column_occupation\n",
    "df_new = df.to_csv('celebrity_deaths_2016_enriched.csv')\n",
    "\n",
    "print('non-classified examples: ', count)"
   ]
  }
 ],
 "metadata": {
  "kernelspec": {
   "display_name": "Python 3",
   "language": "python",
   "name": "python3"
  },
  "language_info": {
   "codemirror_mode": {
    "name": "ipython",
    "version": 3
   },
   "file_extension": ".py",
   "mimetype": "text/x-python",
   "name": "python",
   "nbconvert_exporter": "python",
   "pygments_lexer": "ipython3",
   "version": "3.5.2"
  }
 },
 "nbformat": 4,
 "nbformat_minor": 2
}
